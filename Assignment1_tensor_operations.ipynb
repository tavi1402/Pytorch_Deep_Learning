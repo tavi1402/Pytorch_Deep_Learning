{
  "cells": [
    {
      "cell_type": "markdown",
      "metadata": {
        "id": "view-in-github",
        "colab_type": "text"
      },
      "source": [
        "<a href=\"https://colab.research.google.com/github/tavi1402/Pytorch_Deep_Learning/blob/main/Assignment1_tensor_operations.ipynb\" target=\"_parent\"><img src=\"https://colab.research.google.com/assets/colab-badge.svg\" alt=\"Open In Colab\"/></a>"
      ]
    },
    {
      "cell_type": "markdown",
      "metadata": {
        "id": "9YZotm4obZV8"
      },
      "source": [
        "# Title Here\n",
        "\n",
        "An short introduction about PyTorch and about the chosen functions.\n",
        "\n",
        "- function 1\n",
        "- function 2\n",
        "- function 3\n",
        "- function 4\n",
        "- function 5\n",
        "\n",
        "Before we begin, let's install and import PyTorch"
      ]
    },
    {
      "cell_type": "code",
      "execution_count": null,
      "metadata": {
        "id": "XskfjkRTbZV9"
      },
      "outputs": [],
      "source": [
        "# Uncomment and run the appropriate command for your operating system, if required\n",
        "\n",
        "# Linux / Binder\n",
        "# !pip install numpy torch==1.7.0+cpu torchvision==0.8.1+cpu torchaudio==0.7.0 -f https://download.pytorch.org/whl/torch_stable.html\n",
        "\n",
        "# Windows\n",
        "# !pip install numpy torch==1.7.0+cpu torchvision==0.8.1+cpu torchaudio==0.7.0 -f https://download.pytorch.org/whl/torch_stable.html\n",
        "\n",
        "# MacOS\n",
        "# !pip install numpy torch torchvision torchaudio"
      ]
    },
    {
      "cell_type": "code",
      "execution_count": null,
      "metadata": {
        "id": "SWY761IvbZV-"
      },
      "outputs": [],
      "source": [
        "# Import torch and other required modules\n",
        "import torch"
      ]
    },
    {
      "cell_type": "markdown",
      "metadata": {
        "id": "kjealMn3bZV_"
      },
      "source": [
        "## Function 1 - torch.tensor (change this)\n",
        "\n",
        "Add some explanations"
      ]
    },
    {
      "cell_type": "code",
      "execution_count": null,
      "metadata": {
        "id": "XZn_96hvbZV_",
        "outputId": "b73b08d4-b26f-4fa7-924d-86d0cbf132f7"
      },
      "outputs": [
        {
          "data": {
            "text/plain": [
              "tensor([[1., 2.],\n",
              "        [3., 4.]])"
            ]
          },
          "execution_count": 3,
          "metadata": {},
          "output_type": "execute_result"
        }
      ],
      "source": [
        "# Example 1 - working (change this)\n",
        "torch.tensor([[1, 2], [3, 4.]])"
      ]
    },
    {
      "cell_type": "markdown",
      "metadata": {
        "id": "8T3a5lHEbZWA"
      },
      "source": [
        "Explanation about example"
      ]
    },
    {
      "cell_type": "code",
      "execution_count": null,
      "metadata": {
        "id": "HSac4idSbZWB"
      },
      "outputs": [],
      "source": [
        "# Example 2 - working"
      ]
    },
    {
      "cell_type": "markdown",
      "metadata": {
        "id": "4OfdxP-3bZWB"
      },
      "source": [
        "Explanation about example"
      ]
    },
    {
      "cell_type": "code",
      "execution_count": null,
      "metadata": {
        "id": "1sSzNMV8bZWB",
        "outputId": "f2245cea-278c-4573-c311-073d46b8bdac"
      },
      "outputs": [
        {
          "ename": "ValueError",
          "evalue": "expected sequence of length 2 at dim 1 (got 3)",
          "output_type": "error",
          "traceback": [
            "\u001b[0;31m---------------------------------------------------------------------------\u001b[0m",
            "\u001b[0;31mValueError\u001b[0m                                Traceback (most recent call last)",
            "\u001b[0;32m<ipython-input-5-28787d136593>\u001b[0m in \u001b[0;36m<module>\u001b[0;34m\u001b[0m\n\u001b[1;32m      1\u001b[0m \u001b[0;31m# Example 3 - breaking (to illustrate when it breaks)\u001b[0m\u001b[0;34m\u001b[0m\u001b[0;34m\u001b[0m\u001b[0;34m\u001b[0m\u001b[0m\n\u001b[0;32m----> 2\u001b[0;31m \u001b[0mtorch\u001b[0m\u001b[0;34m.\u001b[0m\u001b[0mtensor\u001b[0m\u001b[0;34m(\u001b[0m\u001b[0;34m[\u001b[0m\u001b[0;34m[\u001b[0m\u001b[0;36m1\u001b[0m\u001b[0;34m,\u001b[0m \u001b[0;36m2\u001b[0m\u001b[0;34m]\u001b[0m\u001b[0;34m,\u001b[0m \u001b[0;34m[\u001b[0m\u001b[0;36m3\u001b[0m\u001b[0;34m,\u001b[0m \u001b[0;36m4\u001b[0m\u001b[0;34m,\u001b[0m \u001b[0;36m5\u001b[0m\u001b[0;34m]\u001b[0m\u001b[0;34m]\u001b[0m\u001b[0;34m)\u001b[0m\u001b[0;34m\u001b[0m\u001b[0;34m\u001b[0m\u001b[0m\n\u001b[0m",
            "\u001b[0;31mValueError\u001b[0m: expected sequence of length 2 at dim 1 (got 3)"
          ]
        }
      ],
      "source": [
        "# Example 3 - breaking (to illustrate when it breaks)\n",
        "torch.tensor([[1, 2], [3, 4, 5]])"
      ]
    },
    {
      "cell_type": "markdown",
      "metadata": {
        "id": "1zn2UEqUbZWB"
      },
      "source": [
        "Explanation about example"
      ]
    },
    {
      "cell_type": "markdown",
      "metadata": {
        "id": "Ik3Om3eDbZWC"
      },
      "source": [
        "Closing comments about when to use this function"
      ]
    },
    {
      "cell_type": "markdown",
      "metadata": {
        "id": "pNNpqqMNbZWC"
      },
      "source": [
        "## Function 2 - ???\n",
        "\n",
        "Add some explanations"
      ]
    },
    {
      "cell_type": "code",
      "execution_count": null,
      "metadata": {
        "id": "-8EZWcFgbZWC"
      },
      "outputs": [],
      "source": [
        "# Example 1 - working"
      ]
    },
    {
      "cell_type": "markdown",
      "metadata": {
        "id": "3ekXe76ObZWC"
      },
      "source": [
        "Explanation about example"
      ]
    },
    {
      "cell_type": "code",
      "execution_count": null,
      "metadata": {
        "id": "Jl-OMtssbZWC"
      },
      "outputs": [],
      "source": [
        "# Example 2 - working"
      ]
    },
    {
      "cell_type": "markdown",
      "metadata": {
        "id": "AIt6ZERcbZWD"
      },
      "source": [
        "Explanation about example"
      ]
    },
    {
      "cell_type": "code",
      "execution_count": null,
      "metadata": {
        "id": "6ZL4yDUBbZWD"
      },
      "outputs": [],
      "source": [
        "# Example 3 - breaking (to illustrate when it breaks)"
      ]
    },
    {
      "cell_type": "markdown",
      "metadata": {
        "id": "wkGNSEV9bZWD"
      },
      "source": [
        "Explanation about example"
      ]
    },
    {
      "cell_type": "markdown",
      "metadata": {
        "id": "IRCnvxsLbZWD"
      },
      "source": [
        "Closing comments about when to use this function"
      ]
    },
    {
      "cell_type": "markdown",
      "metadata": {
        "id": "3rgFCXHJbZWD"
      },
      "source": [
        "## Function 3 - ???\n",
        "\n",
        "Add some explanations"
      ]
    },
    {
      "cell_type": "code",
      "execution_count": null,
      "metadata": {
        "id": "EziqNiAhbZWD"
      },
      "outputs": [],
      "source": [
        "# Example 1 - working"
      ]
    },
    {
      "cell_type": "markdown",
      "metadata": {
        "id": "GnTNlYffbZWD"
      },
      "source": [
        "Explanation about example"
      ]
    },
    {
      "cell_type": "code",
      "execution_count": null,
      "metadata": {
        "id": "mrRKEu83bZWD"
      },
      "outputs": [],
      "source": [
        "# Example 2 - working"
      ]
    },
    {
      "cell_type": "markdown",
      "metadata": {
        "id": "Js613kUCbZWD"
      },
      "source": [
        "Explanation about example"
      ]
    },
    {
      "cell_type": "code",
      "execution_count": null,
      "metadata": {
        "id": "ZzoxO9tpbZWD"
      },
      "outputs": [],
      "source": [
        "# Example 3 - breaking (to illustrate when it breaks)"
      ]
    },
    {
      "cell_type": "markdown",
      "metadata": {
        "id": "L9pbOuBBbZWD"
      },
      "source": [
        "Explanation about example"
      ]
    },
    {
      "cell_type": "markdown",
      "metadata": {
        "id": "yhWRcih1bZWD"
      },
      "source": [
        "Closing comments about when to use this function"
      ]
    },
    {
      "cell_type": "markdown",
      "metadata": {
        "id": "SA02XRF9bZWE"
      },
      "source": [
        "## Function 4 - ???\n",
        "\n",
        "Add some explanations"
      ]
    },
    {
      "cell_type": "code",
      "execution_count": null,
      "metadata": {
        "id": "5I3noDQPbZWE"
      },
      "outputs": [],
      "source": [
        "# Example 1 - working"
      ]
    },
    {
      "cell_type": "markdown",
      "metadata": {
        "id": "XG9MI7EtbZWE"
      },
      "source": [
        "Explanation about example"
      ]
    },
    {
      "cell_type": "code",
      "execution_count": null,
      "metadata": {
        "id": "-UUY8xU1bZWE"
      },
      "outputs": [],
      "source": [
        "# Example 2 - working"
      ]
    },
    {
      "cell_type": "markdown",
      "metadata": {
        "id": "V9Nb4C2ebZWE"
      },
      "source": [
        "Explanation about example"
      ]
    },
    {
      "cell_type": "code",
      "execution_count": null,
      "metadata": {
        "id": "Uby8jrdObZWI"
      },
      "outputs": [],
      "source": [
        "# Example 3 - breaking (to illustrate when it breaks)"
      ]
    },
    {
      "cell_type": "markdown",
      "metadata": {
        "id": "u4bftk5MbZWI"
      },
      "source": [
        "Explanation about example"
      ]
    },
    {
      "cell_type": "markdown",
      "metadata": {
        "id": "oXW8ZKu3bZWI"
      },
      "source": [
        "Closing comments about when to use this function"
      ]
    },
    {
      "cell_type": "markdown",
      "metadata": {
        "id": "vXogWG5ubZWI"
      },
      "source": [
        "## Function 5 - ???\n",
        "\n",
        "Add some explanations"
      ]
    },
    {
      "cell_type": "code",
      "execution_count": null,
      "metadata": {
        "id": "VUC7faKybZWJ"
      },
      "outputs": [],
      "source": [
        "# Example 1 - working"
      ]
    },
    {
      "cell_type": "markdown",
      "metadata": {
        "id": "0BiCKm_EbZWJ"
      },
      "source": [
        "Explanation about example"
      ]
    },
    {
      "cell_type": "code",
      "execution_count": null,
      "metadata": {
        "id": "wGIejdb0bZWJ"
      },
      "outputs": [],
      "source": [
        "# Example 2 - working"
      ]
    },
    {
      "cell_type": "markdown",
      "metadata": {
        "id": "ucTmSDxobZWJ"
      },
      "source": [
        "Explanation about example"
      ]
    },
    {
      "cell_type": "code",
      "execution_count": null,
      "metadata": {
        "id": "hRuHe-ombZWJ"
      },
      "outputs": [],
      "source": [
        "# Example 3 - breaking (to illustrate when it breaks)"
      ]
    },
    {
      "cell_type": "markdown",
      "metadata": {
        "id": "e5xlEPxJbZWJ"
      },
      "source": [
        "Explanation about example"
      ]
    },
    {
      "cell_type": "markdown",
      "metadata": {
        "id": "lQ66MqMabZWJ"
      },
      "source": [
        "Closing comments about when to use this function"
      ]
    },
    {
      "cell_type": "markdown",
      "metadata": {
        "id": "TiCAcMMobZWJ"
      },
      "source": [
        "## Conclusion\n",
        "\n",
        "Summarize what was covered in this notebook, and where to go next"
      ]
    }
  ],
  "metadata": {
    "kernelspec": {
      "display_name": "Python 3",
      "language": "python",
      "name": "python3"
    },
    "language_info": {
      "codemirror_mode": {
        "name": "ipython",
        "version": 3
      },
      "file_extension": ".py",
      "mimetype": "text/x-python",
      "name": "python",
      "nbconvert_exporter": "python",
      "pygments_lexer": "ipython3",
      "version": "3.8.5"
    },
    "colab": {
      "provenance": [],
      "include_colab_link": true
    }
  },
  "nbformat": 4,
  "nbformat_minor": 0
}